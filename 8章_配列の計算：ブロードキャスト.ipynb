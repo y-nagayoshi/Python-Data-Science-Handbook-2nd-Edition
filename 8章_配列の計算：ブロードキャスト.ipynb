{
  "nbformat": 4,
  "nbformat_minor": 0,
  "metadata": {
    "colab": {
      "provenance": [],
      "authorship_tag": "ABX9TyPUrhSVhamC/dw4XKmmsjk2",
      "include_colab_link": true
    },
    "kernelspec": {
      "name": "python3",
      "display_name": "Python 3"
    },
    "language_info": {
      "name": "python"
    }
  },
  "cells": [
    {
      "cell_type": "markdown",
      "metadata": {
        "id": "view-in-github",
        "colab_type": "text"
      },
      "source": [
        "<a href=\"https://colab.research.google.com/github/y-nagayoshi/Python-Data-Science-Handbook-2nd-Edition/blob/main/8%E7%AB%A0_%E9%85%8D%E5%88%97%E3%81%AE%E8%A8%88%E7%AE%97%EF%BC%9A%E3%83%96%E3%83%AD%E3%83%BC%E3%83%89%E3%82%AD%E3%83%A3%E3%82%B9%E3%83%88.ipynb\" target=\"_parent\"><img src=\"https://colab.research.google.com/assets/colab-badge.svg\" alt=\"Open In Colab\"/></a>"
      ]
    },
    {
      "cell_type": "code",
      "execution_count": 1,
      "metadata": {
        "colab": {
          "base_uri": "https://localhost:8080/"
        },
        "id": "WYIKO-KSxjic",
        "outputId": "c485c991-d8e4-45e5-c686-36d5accbf920"
      },
      "outputs": [
        {
          "output_type": "execute_result",
          "data": {
            "text/plain": [
              "array([5, 6, 7])"
            ]
          },
          "metadata": {},
          "execution_count": 1
        }
      ],
      "source": [
        "import numpy as np\n",
        "\n",
        "a = np.array([0,1,2])\n",
        "b = np.array([5,5,5])\n",
        "a + b"
      ]
    },
    {
      "cell_type": "code",
      "source": [
        "rng = np.random.default_rng(seed=1701)\n",
        "X = rng.random((10,3))\n",
        "X"
      ],
      "metadata": {
        "colab": {
          "base_uri": "https://localhost:8080/"
        },
        "id": "5EChRB-G0VR4",
        "outputId": "218e5ede-fb2e-41a9-d021-30a62820b39c"
      },
      "execution_count": 2,
      "outputs": [
        {
          "output_type": "execute_result",
          "data": {
            "text/plain": [
              "array([[0.4020733 , 0.30563311, 0.67668051],\n",
              "       [0.15821208, 0.79247763, 0.09419469],\n",
              "       [0.36753944, 0.06388928, 0.96431608],\n",
              "       [0.35200998, 0.54550343, 0.88597945],\n",
              "       [0.57016965, 0.26614394, 0.8170382 ],\n",
              "       [0.55906652, 0.06387035, 0.84877751],\n",
              "       [0.89414484, 0.18920785, 0.23660015],\n",
              "       [0.16502896, 0.56583856, 0.29513111],\n",
              "       [0.29078012, 0.90079544, 0.59992434],\n",
              "       [0.09133896, 0.00578466, 0.97096222]])"
            ]
          },
          "metadata": {},
          "execution_count": 2
        }
      ]
    },
    {
      "cell_type": "code",
      "source": [
        "Xmean = X.mean(0)\n",
        "Xmean"
      ],
      "metadata": {
        "colab": {
          "base_uri": "https://localhost:8080/"
        },
        "id": "g-hThIG3IAe1",
        "outputId": "442b240c-8a86-4ccd-9df2-63191d3b30da"
      },
      "execution_count": 4,
      "outputs": [
        {
          "output_type": "execute_result",
          "data": {
            "text/plain": [
              "array([0.38503638, 0.36991443, 0.63896043])"
            ]
          },
          "metadata": {},
          "execution_count": 4
        }
      ]
    },
    {
      "cell_type": "code",
      "source": [
        "X_centered = X - Xmean"
      ],
      "metadata": {
        "id": "Z2nAJsaXIE9X"
      },
      "execution_count": 5,
      "outputs": []
    },
    {
      "cell_type": "code",
      "source": [
        "X_centered.mean(0)"
      ],
      "metadata": {
        "colab": {
          "base_uri": "https://localhost:8080/"
        },
        "id": "WWIvzRNeIPda",
        "outputId": "b1e6a842-b150-430b-8d5b-5ade31b45a18"
      },
      "execution_count": 8,
      "outputs": [
        {
          "output_type": "execute_result",
          "data": {
            "text/plain": [
              "array([ 4.99600361e-17, -4.44089210e-17,  0.00000000e+00])"
            ]
          },
          "metadata": {},
          "execution_count": 8
        }
      ]
    },
    {
      "cell_type": "code",
      "source": [
        "x = np.linspace(0,5,50)\n",
        "y = np.linspace(0,5,50)[:,np.newaxis]\n",
        "\n",
        "z = np.sin(x) ** 10 + np.cos(10+y*x)*np.cos(x)"
      ],
      "metadata": {
        "id": "T9JBK7ENISbj"
      },
      "execution_count": 9,
      "outputs": []
    },
    {
      "cell_type": "code",
      "source": [
        "%matplotlib inline\n",
        "import matplotlib.pyplot as plt\n",
        "plt.imshow(z, origin='lower', extent=[0, 5, 0, 5])\n",
        "plt.colorbar();"
      ],
      "metadata": {
        "colab": {
          "base_uri": "https://localhost:8080/",
          "height": 435
        },
        "id": "_sRUSzHfJVRU",
        "outputId": "44f47a63-b1f8-41fa-bc32-c2236081c2dd"
      },
      "execution_count": 10,
      "outputs": [
        {
          "output_type": "display_data",
          "data": {
            "text/plain": [
              "<Figure size 640x480 with 2 Axes>"
            ],
            "image/png": "[encoded data removed]"
          },
          "metadata": {}
        }
      ]
    },
    {
      "cell_type": "code",
      "source": [],
      "metadata": {
        "id": "lY6vNDrYJfUD"
      },
      "execution_count": null,
      "outputs": []
    }
  ]
}