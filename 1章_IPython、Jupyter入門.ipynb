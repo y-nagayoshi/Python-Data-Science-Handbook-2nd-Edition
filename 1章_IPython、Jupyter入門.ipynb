{
  "nbformat": 4,
  "nbformat_minor": 0,
  "metadata": {
    "colab": {
      "provenance": [],
      "authorship_tag": "ABX9TyNFgZMge9wzTEOvBLYvOk+y",
      "include_colab_link": true
    },
    "kernelspec": {
      "name": "python3",
      "display_name": "Python 3"
    },
    "language_info": {
      "name": "python"
    }
  },
  "cells": [
    {
      "cell_type": "markdown",
      "metadata": {
        "id": "view-in-github",
        "colab_type": "text"
      },
      "source": [
        "<a href=\"https://colab.research.google.com/github/y-nagayoshi/Python-Data-Science-Handbook-2nd-Edition/blob/main/1%E7%AB%A0_IPython%E3%80%81Jupyter%E5%85%A5%E9%96%80.ipynb\" target=\"_parent\"><img src=\"https://colab.research.google.com/assets/colab-badge.svg\" alt=\"Open In Colab\"/></a>"
      ]
    },
    {
      "cell_type": "code",
      "execution_count": null,
      "metadata": {
        "colab": {
          "base_uri": "https://localhost:8080/"
        },
        "id": "CG_0ebt3wJ2E",
        "outputId": "a0b473cd-aaf5-407b-ef35-c39b1709e6e6"
      },
      "outputs": [
        {
          "output_type": "stream",
          "name": "stdout",
          "text": [
            "Help on built-in function len in module builtins:\n",
            "\n",
            "len(obj, /)\n",
            "    Return the number of items in a container.\n",
            "\n"
          ]
        }
      ],
      "source": [
        "help(len)"
      ]
    },
    {
      "cell_type": "code",
      "source": [
        "len?"
      ],
      "metadata": {
        "id": "DuuuR2zZwPGH"
      },
      "execution_count": null,
      "outputs": []
    },
    {
      "cell_type": "code",
      "source": [
        "L = [1,2,3]\n",
        "L.insert?"
      ],
      "metadata": {
        "id": "BsDHNQc-wXbA"
      },
      "execution_count": null,
      "outputs": []
    },
    {
      "cell_type": "code",
      "source": [
        "L?"
      ],
      "metadata": {
        "id": "uNSu0RtPwem_"
      },
      "execution_count": null,
      "outputs": []
    },
    {
      "cell_type": "code",
      "source": [
        "def square(a):\n",
        "    \"\"\"Return the square of a.\"\"\"\n",
        "    return a ** 2"
      ],
      "metadata": {
        "id": "9jaRb94Jwh3U"
      },
      "execution_count": null,
      "outputs": []
    },
    {
      "cell_type": "code",
      "source": [
        "square?"
      ],
      "metadata": {
        "id": "_k7gJcU2wr2D"
      },
      "execution_count": null,
      "outputs": []
    },
    {
      "cell_type": "code",
      "source": [
        "len??"
      ],
      "metadata": {
        "id": "9pEtoAn3ws2Q"
      },
      "execution_count": null,
      "outputs": []
    },
    {
      "cell_type": "code",
      "source": [
        "print(L.count)"
      ],
      "metadata": {
        "colab": {
          "base_uri": "https://localhost:8080/"
        },
        "id": "S4nFODtyw0zU",
        "outputId": "36d700f0-649e-4e35-979f-79178327c752"
      },
      "execution_count": null,
      "outputs": [
        {
          "output_type": "stream",
          "name": "stdout",
          "text": [
            "<built-in method count of list object at 0x7fc037d13980>\n"
          ]
        }
      ]
    },
    {
      "cell_type": "code",
      "source": [
        "*Warning?"
      ],
      "metadata": {
        "id": "woVSznTBxKO2"
      },
      "execution_count": null,
      "outputs": []
    },
    {
      "cell_type": "code",
      "source": [
        "str.*find*?"
      ],
      "metadata": {
        "id": "aZx1lxMbxbje"
      },
      "execution_count": null,
      "outputs": []
    },
    {
      "cell_type": "code",
      "source": [
        "%run myscript.py"
      ],
      "metadata": {
        "colab": {
          "base_uri": "https://localhost:8080/"
        },
        "id": "jB5g2-i-xkjp",
        "outputId": "a71f0c24-3b23-47e4-ba67-cedae8f1a1ed"
      },
      "execution_count": null,
      "outputs": [
        {
          "output_type": "stream",
          "name": "stdout",
          "text": [
            "1 squared is 1\n",
            "2 squared is 4\n",
            "3 squared is 9\n"
          ]
        }
      ]
    },
    {
      "cell_type": "code",
      "source": [
        "%timeit L = [n ** 2 for n in range(1000)]"
      ],
      "metadata": {
        "colab": {
          "base_uri": "https://localhost:8080/"
        },
        "id": "4CWTS8b_yMna",
        "outputId": "d34db05a-347e-4cf6-914e-f3996eac65a8"
      },
      "execution_count": null,
      "outputs": [
        {
          "output_type": "stream",
          "name": "stdout",
          "text": [
            "64.7 µs ± 1.15 µs per loop (mean ± std. dev. of 7 runs, 10000 loops each)\n"
          ]
        }
      ]
    },
    {
      "cell_type": "code",
      "source": [
        "%%timeit\n",
        "  L = []\n",
        "  for i in range(1000):\n",
        "    L.append(i**2)"
      ],
      "metadata": {
        "colab": {
          "base_uri": "https://localhost:8080/"
        },
        "id": "BQHN4bzpyZkR",
        "outputId": "6232b3a8-a34f-41ce-d4ae-be55b2b45e2a"
      },
      "execution_count": null,
      "outputs": [
        {
          "output_type": "stream",
          "name": "stdout",
          "text": [
            "70.6 µs ± 772 ns per loop (mean ± std. dev. of 7 runs, 10000 loops each)\n"
          ]
        }
      ]
    },
    {
      "cell_type": "code",
      "source": [
        "%timeit?"
      ],
      "metadata": {
        "id": "BvLa5Ro1yrOv"
      },
      "execution_count": null,
      "outputs": []
    },
    {
      "cell_type": "code",
      "source": [
        "%magic?"
      ],
      "metadata": {
        "id": "HYK1cIayy0My"
      },
      "execution_count": null,
      "outputs": []
    },
    {
      "cell_type": "code",
      "source": [
        "contents = !ls"
      ],
      "metadata": {
        "id": "N4SPmDVMy4fD"
      },
      "execution_count": null,
      "outputs": []
    },
    {
      "cell_type": "code",
      "source": [
        "contents"
      ],
      "metadata": {
        "id": "Ou2C64rj8RwJ",
        "outputId": "41fc491b-a4ae-4512-a2f9-dde178abe120",
        "colab": {
          "base_uri": "https://localhost:8080/"
        }
      },
      "execution_count": null,
      "outputs": [
        {
          "output_type": "execute_result",
          "data": {
            "text/plain": [
              "['myscript.py  sample_data']"
            ]
          },
          "metadata": {},
          "execution_count": 23
        }
      ]
    },
    {
      "cell_type": "code",
      "source": [],
      "metadata": {
        "id": "lMNcqIMQ8SvZ"
      },
      "execution_count": null,
      "outputs": []
    }
  ]
}