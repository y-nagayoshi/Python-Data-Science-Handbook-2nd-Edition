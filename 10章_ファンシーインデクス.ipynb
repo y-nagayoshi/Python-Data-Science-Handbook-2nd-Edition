{
  "nbformat": 4,
  "nbformat_minor": 0,
  "metadata": {
    "colab": {
      "provenance": [],
      "authorship_tag": "ABX9TyPEkJuUS/4OeC8btFy2+u5R",
      "include_colab_link": true
    },
    "kernelspec": {
      "name": "python3",
      "display_name": "Python 3"
    },
    "language_info": {
      "name": "python"
    }
  },
  "cells": [
    {
      "cell_type": "markdown",
      "metadata": {
        "id": "view-in-github",
        "colab_type": "text"
      },
      "source": [
        "<a href=\"https://colab.research.google.com/github/y-nagayoshi/Python-Data-Science-Handbook-2nd-Edition/blob/main/10%E7%AB%A0_%E3%83%95%E3%82%A1%E3%83%B3%E3%82%B7%E3%83%BC%E3%82%A4%E3%83%B3%E3%83%87%E3%82%AF%E3%82%B9.ipynb\" target=\"_parent\"><img src=\"https://colab.research.google.com/assets/colab-badge.svg\" alt=\"Open In Colab\"/></a>"
      ]
    },
    {
      "cell_type": "code",
      "execution_count": 1,
      "metadata": {
        "colab": {
          "base_uri": "https://localhost:8080/"
        },
        "id": "g9Go2UI5VQhk",
        "outputId": "98b8e226-110b-4a53-9b50-6b5d07d98b79"
      },
      "outputs": [
        {
          "output_type": "stream",
          "name": "stdout",
          "text": [
            "[90 40  9 30 80 67 39 15 33 79]\n"
          ]
        }
      ],
      "source": [
        "import numpy as np\n",
        "rng = np.random.default_rng(seed=1701)\n",
        "\n",
        "x = rng.integers(100, size=10)\n",
        "print(x)"
      ]
    },
    {
      "cell_type": "code",
      "source": [
        "ind = np.array([[3,7], [4,5]])\n",
        "x[ind]"
      ],
      "metadata": {
        "colab": {
          "base_uri": "https://localhost:8080/"
        },
        "id": "QvoAKiflVe3s",
        "outputId": "c4df0a01-da70-4422-b411-9deaac11a631"
      },
      "execution_count": 2,
      "outputs": [
        {
          "output_type": "execute_result",
          "data": {
            "text/plain": [
              "array([[30, 15],\n",
              "       [80, 67]])"
            ]
          },
          "metadata": {},
          "execution_count": 2
        }
      ]
    },
    {
      "cell_type": "code",
      "source": [
        "X = np.arange(12).reshape((3,4))\n",
        "X"
      ],
      "metadata": {
        "colab": {
          "base_uri": "https://localhost:8080/"
        },
        "id": "VYCt0pCiVrTW",
        "outputId": "deb469fd-266e-45b5-9140-47c4d4351225"
      },
      "execution_count": 3,
      "outputs": [
        {
          "output_type": "execute_result",
          "data": {
            "text/plain": [
              "array([[ 0,  1,  2,  3],\n",
              "       [ 4,  5,  6,  7],\n",
              "       [ 8,  9, 10, 11]])"
            ]
          },
          "metadata": {},
          "execution_count": 3
        }
      ]
    },
    {
      "cell_type": "code",
      "source": [
        "row = np.array([0,1,2])\n",
        "col = np.array([2,1,3])\n",
        "\n",
        "X[row,col]"
      ],
      "metadata": {
        "colab": {
          "base_uri": "https://localhost:8080/"
        },
        "id": "UYyv1uARVzxu",
        "outputId": "43ab4a89-278c-407e-8f04-0df93e94c91f"
      },
      "execution_count": 4,
      "outputs": [
        {
          "output_type": "execute_result",
          "data": {
            "text/plain": [
              "array([ 2,  5, 11])"
            ]
          },
          "metadata": {},
          "execution_count": 4
        }
      ]
    },
    {
      "cell_type": "code",
      "source": [
        "X[row[:, np.newaxis], col]"
      ],
      "metadata": {
        "colab": {
          "base_uri": "https://localhost:8080/"
        },
        "id": "Pz9IC3AiV-SB",
        "outputId": "5d23b1db-675f-49d2-98d3-e6c009b93107"
      },
      "execution_count": 5,
      "outputs": [
        {
          "output_type": "execute_result",
          "data": {
            "text/plain": [
              "array([[ 2,  1,  3],\n",
              "       [ 6,  5,  7],\n",
              "       [10,  9, 11]])"
            ]
          },
          "metadata": {},
          "execution_count": 5
        }
      ]
    },
    {
      "cell_type": "code",
      "source": [
        "row[:, np.newaxis]*col"
      ],
      "metadata": {
        "colab": {
          "base_uri": "https://localhost:8080/"
        },
        "id": "nyLGxGKwWSAs",
        "outputId": "85092f2c-99d7-4d5d-e2dd-375ce55af32c"
      },
      "execution_count": 6,
      "outputs": [
        {
          "output_type": "execute_result",
          "data": {
            "text/plain": [
              "array([[0, 0, 0],\n",
              "       [2, 1, 3],\n",
              "       [4, 2, 6]])"
            ]
          },
          "metadata": {},
          "execution_count": 6
        }
      ]
    },
    {
      "cell_type": "code",
      "source": [
        "X"
      ],
      "metadata": {
        "colab": {
          "base_uri": "https://localhost:8080/"
        },
        "id": "D9GA6p5QWs6x",
        "outputId": "99f88f96-f63e-45d9-d4c7-b014269c0e40"
      },
      "execution_count": 7,
      "outputs": [
        {
          "output_type": "execute_result",
          "data": {
            "text/plain": [
              "array([[ 0,  1,  2,  3],\n",
              "       [ 4,  5,  6,  7],\n",
              "       [ 8,  9, 10, 11]])"
            ]
          },
          "metadata": {},
          "execution_count": 7
        }
      ]
    },
    {
      "cell_type": "code",
      "source": [
        "X[2,[2,0,1]]"
      ],
      "metadata": {
        "colab": {
          "base_uri": "https://localhost:8080/"
        },
        "id": "Ue0Sgy8mXg3e",
        "outputId": "8d82441c-78a0-4f20-872a-5a4f3e2eef4d"
      },
      "execution_count": 8,
      "outputs": [
        {
          "output_type": "execute_result",
          "data": {
            "text/plain": [
              "array([10,  8,  9])"
            ]
          },
          "metadata": {},
          "execution_count": 8
        }
      ]
    },
    {
      "cell_type": "code",
      "source": [
        "X[1:,[2,0,1]]"
      ],
      "metadata": {
        "colab": {
          "base_uri": "https://localhost:8080/"
        },
        "id": "84QRk6NPXkgL",
        "outputId": "c74ecc63-e526-4ea5-f3cb-dfe5a28be0e2"
      },
      "execution_count": 9,
      "outputs": [
        {
          "output_type": "execute_result",
          "data": {
            "text/plain": [
              "array([[ 6,  4,  5],\n",
              "       [10,  8,  9]])"
            ]
          },
          "metadata": {},
          "execution_count": 9
        }
      ]
    },
    {
      "cell_type": "code",
      "source": [
        "mask = np.array([True, False, True, False])\n",
        "X[row[:, np.newaxis], mask]"
      ],
      "metadata": {
        "colab": {
          "base_uri": "https://localhost:8080/"
        },
        "id": "3jKmXrfaYSeC",
        "outputId": "cc4247bf-a4ce-490e-b554-ae320f1df2d2"
      },
      "execution_count": 10,
      "outputs": [
        {
          "output_type": "execute_result",
          "data": {
            "text/plain": [
              "array([[ 0,  2],\n",
              "       [ 4,  6],\n",
              "       [ 8, 10]])"
            ]
          },
          "metadata": {},
          "execution_count": 10
        }
      ]
    },
    {
      "cell_type": "code",
      "source": [
        "row[:, np.newaxis]"
      ],
      "metadata": {
        "colab": {
          "base_uri": "https://localhost:8080/"
        },
        "id": "KJ0Yo7aOYe8o",
        "outputId": "280d4fcb-7412-4f23-a5d4-f7538da11361"
      },
      "execution_count": 11,
      "outputs": [
        {
          "output_type": "execute_result",
          "data": {
            "text/plain": [
              "array([[0],\n",
              "       [1],\n",
              "       [2]])"
            ]
          },
          "metadata": {},
          "execution_count": 11
        }
      ]
    },
    {
      "cell_type": "code",
      "source": [
        "mean = [0,0]\n",
        "cov = [[1,2],[2,5]]\n",
        "X = rng.multivariate_normal(mean, cov, 100)\n",
        "X.shape"
      ],
      "metadata": {
        "colab": {
          "base_uri": "https://localhost:8080/"
        },
        "id": "XOuFzhYdZGRo",
        "outputId": "3f584524-671c-4411-b33c-a66c480b133a"
      },
      "execution_count": 12,
      "outputs": [
        {
          "output_type": "execute_result",
          "data": {
            "text/plain": [
              "(100, 2)"
            ]
          },
          "metadata": {},
          "execution_count": 12
        }
      ]
    },
    {
      "cell_type": "code",
      "source": [
        "%matplotlib inline\n",
        "import matplotlib.pyplot as plt\n",
        "plt.style.use('seaborn-v0_8-whitegrid')\n",
        "plt.scatter(X[:,0], X[:,1])"
      ],
      "metadata": {
        "colab": {
          "base_uri": "https://localhost:8080/",
          "height": 442
        },
        "id": "iNocQ7mfZeW6",
        "outputId": "08160263-5170-4f39-b5cd-abd8719f6e29"
      },
      "execution_count": 14,
      "outputs": [
        {
          "output_type": "execute_result",
          "data": {
            "text/plain": [
              "<matplotlib.collections.PathCollection at 0x7ee70a566950>"
            ]
          },
          "metadata": {},
          "execution_count": 14
        },
        {
          "output_type": "display_data",
          "data": {
            "text/plain": [
              "<Figure size 640x480 with 1 Axes>"
            ],
            "image/png": "[encoded data removed]"
          },
          "metadata": {}
        }
      ]
    },
    {
      "cell_type": "code",
      "source": [
        "indices = np.random.choice(X.shape[0], 20, replace=False)\n",
        "indices\n",
        "selection = X[indices]\n",
        "selection"
      ],
      "metadata": {
        "colab": {
          "base_uri": "https://localhost:8080/"
        },
        "id": "VVhk3_7EZ-Xv",
        "outputId": "339823d3-fb4a-4d15-c38d-8b93f78523e9"
      },
      "execution_count": 16,
      "outputs": [
        {
          "output_type": "execute_result",
          "data": {
            "text/plain": [
              "array([[ 0.89056197,  0.20281203],\n",
              "       [-0.85574954, -0.99961824],\n",
              "       [ 1.09101199,  1.77260811],\n",
              "       [-0.28349079,  1.33429965],\n",
              "       [-1.26787248, -1.74778269],\n",
              "       [ 1.31411717,  2.22815311],\n",
              "       [ 0.86013582,  1.64977873],\n",
              "       [ 0.86915742,  1.05136337],\n",
              "       [ 0.70050053,  2.73668582],\n",
              "       [-0.71058804, -1.05392878],\n",
              "       [-1.639554  , -4.5457765 ],\n",
              "       [-0.85065205, -1.54100459],\n",
              "       [ 0.15137979, -1.2354979 ],\n",
              "       [ 2.23519164,  4.3326616 ],\n",
              "       [-0.59179575,  1.91761015],\n",
              "       [-2.59588094, -4.33224979],\n",
              "       [ 0.34846418,  1.95705366],\n",
              "       [-0.33121443, -0.53995941],\n",
              "       [-2.59751447, -3.47995836],\n",
              "       [ 0.7240915 ,  2.16337705]])"
            ]
          },
          "metadata": {},
          "execution_count": 16
        }
      ]
    },
    {
      "cell_type": "code",
      "source": [
        "plt.scatter(X[:,0], X[:,1], alpha=0.3)\n",
        "plt.scatter(selection[:,0], selection[:,1], facecolor='none', edgecolor='black', s=200);"
      ],
      "metadata": {
        "colab": {
          "base_uri": "https://localhost:8080/",
          "height": 425
        },
        "id": "snhGjyBxacxr",
        "outputId": "fa177096-f01a-4d28-c6ab-e77f459d1b6e"
      },
      "execution_count": 17,
      "outputs": [
        {
          "output_type": "display_data",
          "data": {
            "text/plain": [
              "<Figure size 640x480 with 1 Axes>"
            ],
            "image/png": "[encoded data removed]"
          },
          "metadata": {}
        }
      ]
    },
    {
      "cell_type": "code",
      "source": [
        "x = np.zeros(10)\n",
        "i = [2, 3, 3, 4, 4, 4]\n",
        "np.add.at(x,i,1)\n",
        "x"
      ],
      "metadata": {
        "colab": {
          "base_uri": "https://localhost:8080/"
        },
        "id": "-M3YKP_Zav-Y",
        "outputId": "ab3a12f4-c43f-4a67-b312-78d5f924a706"
      },
      "execution_count": 18,
      "outputs": [
        {
          "output_type": "execute_result",
          "data": {
            "text/plain": [
              "array([0., 0., 1., 2., 3., 0., 0., 0., 0., 0.])"
            ]
          },
          "metadata": {},
          "execution_count": 18
        }
      ]
    },
    {
      "cell_type": "code",
      "source": [
        "rng = np.random.default_rng(seed=1701)\n",
        "x = rng.normal(size=100)\n",
        "bins = np.linspace(-5,5,20)\n",
        "counts = np.zeros_like(bins)\n",
        "\n",
        "i = np.searchsorted(bins, x)\n",
        "np.add.at(counts,i,1)"
      ],
      "metadata": {
        "id": "jG4n_E60bN-u"
      },
      "execution_count": 22,
      "outputs": []
    },
    {
      "cell_type": "code",
      "source": [
        "plt.plot(bins,counts, drawstyle='steps')"
      ],
      "metadata": {
        "colab": {
          "base_uri": "https://localhost:8080/",
          "height": 442
        },
        "id": "rTmpn3hFbX3H",
        "outputId": "c946ef02-238e-4734-8f81-94b3c4e95c2c"
      },
      "execution_count": 25,
      "outputs": [
        {
          "output_type": "execute_result",
          "data": {
            "text/plain": [
              "[<matplotlib.lines.Line2D at 0x7ee7074fb490>]"
            ]
          },
          "metadata": {},
          "execution_count": 25
        },
        {
          "output_type": "display_data",
          "data": {
            "text/plain": [
              "<Figure size 640x480 with 1 Axes>"
            ],
            "image/png": "[encoded data removed]"
          },
          "metadata": {}
        }
      ]
    },
    {
      "cell_type": "code",
      "source": [
        "x"
      ],
      "metadata": {
        "colab": {
          "base_uri": "https://localhost:8080/"
        },
        "id": "3YHl2HSMb9MX",
        "outputId": "b4678c61-e012-4bdb-f376-d78a2c444bd1"
      },
      "execution_count": 26,
      "outputs": [
        {
          "output_type": "execute_result",
          "data": {
            "text/plain": [
              "array([ 0.43874206,  0.32818515,  0.68328838, -0.81928256,  0.69156442,\n",
              "       -1.62453268,  1.50806312, -1.22449846,  1.22696072, -1.05013046,\n",
              "        0.62509363,  0.09693023,  0.62776415, -0.28565182,  1.49678665,\n",
              "       -0.76768541, -0.3942867 , -1.35693505,  0.33524959,  0.57442768,\n",
              "        1.62016911,  0.33395176, -1.02906713, -0.94266623,  0.38365532,\n",
              "        0.25423793,  1.36108696,  1.25474959, -0.05637126,  0.44880896,\n",
              "       -1.47909513,  2.40254455, -0.06959272, -1.52752832,  1.93633419,\n",
              "       -1.28006351, -0.71562065,  0.72455605,  0.47362789, -0.33131697,\n",
              "        0.26272942,  1.75038031,  0.01834221, -1.43899931,  1.3716487 ,\n",
              "        0.67679557,  0.53793618,  1.53399445,  0.28214872,  0.56313954,\n",
              "       -0.37793941, -1.15832253,  0.96594187, -0.35611958, -1.28536874,\n",
              "        0.19742658,  0.41682623, -0.95386364,  0.75830441, -2.08596882,\n",
              "       -1.16203473,  0.34232684, -1.11888193, -1.13596   ,  0.6742499 ,\n",
              "        1.26767704,  0.65873509, -0.64003051,  3.09160717,  0.51595829,\n",
              "        0.61122253, -0.01723733,  0.3037547 ,  0.48345155,  1.31693828,\n",
              "        0.11558915, -1.71886929, -0.98511272,  0.42671049,  0.54159558,\n",
              "       -1.40923638, -0.38289913, -0.36361407,  0.51818448,  0.98517332,\n",
              "       -0.28010458,  0.48822092,  1.18871415,  2.35468027, -0.50254828,\n",
              "        0.72586398,  0.82359641,  0.12582911, -0.96702245,  0.16762368,\n",
              "       -0.25626375, -0.77984442,  0.73111879, -0.90911587,  2.5795842 ])"
            ]
          },
          "metadata": {},
          "execution_count": 26
        }
      ]
    },
    {
      "cell_type": "code",
      "source": [
        "i"
      ],
      "metadata": {
        "colab": {
          "base_uri": "https://localhost:8080/"
        },
        "id": "EOfLijFkcDJA",
        "outputId": "42787a87-0d45-41cb-d16f-556027df0045"
      },
      "execution_count": 27,
      "outputs": [
        {
          "output_type": "execute_result",
          "data": {
            "text/plain": [
              "array([11, 11, 11,  8, 11,  7, 13,  8, 12,  8, 11, 10, 11,  9, 13,  9,  9,\n",
              "        7, 11, 11, 13, 11,  8,  8, 11, 10, 13, 12, 10, 11,  7, 15, 10,  7,\n",
              "       14,  8,  9, 11, 11,  9, 10, 13, 10,  7, 13, 11, 11, 13, 11, 11,  9,\n",
              "        8, 12,  9,  8, 10, 11,  8, 11,  6,  8, 11,  8,  8, 11, 12, 11,  9,\n",
              "       16, 11, 11, 10, 11, 11, 13, 10,  7,  8, 11, 11,  7,  9,  9, 11, 12,\n",
              "        9, 11, 12, 14,  9, 11, 12, 10,  8, 10, 10,  9, 11,  8, 15])"
            ]
          },
          "metadata": {},
          "execution_count": 27
        }
      ]
    },
    {
      "cell_type": "code",
      "source": [
        "plt.hist(x,bins,histtype='step')"
      ],
      "metadata": {
        "colab": {
          "base_uri": "https://localhost:8080/",
          "height": 544
        },
        "id": "xqAR_jm2cKra",
        "outputId": "826d918a-eabf-4c19-b375-cd2ef69f98d7"
      },
      "execution_count": 28,
      "outputs": [
        {
          "output_type": "execute_result",
          "data": {
            "text/plain": [
              "(array([ 0.,  0.,  0.,  0.,  0.,  1.,  7., 15., 13., 12., 32.,  7.,  8.,\n",
              "         2.,  2.,  1.,  0.,  0.,  0.]),\n",
              " array([-5.        , -4.47368421, -3.94736842, -3.42105263, -2.89473684,\n",
              "        -2.36842105, -1.84210526, -1.31578947, -0.78947368, -0.26315789,\n",
              "         0.26315789,  0.78947368,  1.31578947,  1.84210526,  2.36842105,\n",
              "         2.89473684,  3.42105263,  3.94736842,  4.47368421,  5.        ]),\n",
              " [<matplotlib.patches.Polygon at 0x7ee7073b3790>])"
            ]
          },
          "metadata": {},
          "execution_count": 28
        },
        {
          "output_type": "display_data",
          "data": {
            "text/plain": [
              "<Figure size 640x480 with 1 Axes>"
            ],
            "image/png": "[encoded data removed]"
          },
          "metadata": {}
        }
      ]
    },
    {
      "cell_type": "code",
      "source": [
        "%timeit counts, edges = np.histogram(x,bins)"
      ],
      "metadata": {
        "colab": {
          "base_uri": "https://localhost:8080/"
        },
        "id": "DqpYOwzEcYYG",
        "outputId": "167599d4-8260-47b4-8984-b7ecc8d641f8"
      },
      "execution_count": 30,
      "outputs": [
        {
          "output_type": "stream",
          "name": "stdout",
          "text": [
            "21 µs ± 778 ns per loop (mean ± std. dev. of 7 runs, 10000 loops each)\n"
          ]
        }
      ]
    },
    {
      "cell_type": "code",
      "source": [
        "%timeit np.add.at(counts,np.searchsorted(bins,x),1)"
      ],
      "metadata": {
        "colab": {
          "base_uri": "https://localhost:8080/"
        },
        "id": "0OwfUuvqckEI",
        "outputId": "d4274777-ad54-4597-f77b-f4882515a84f"
      },
      "execution_count": 31,
      "outputs": [
        {
          "output_type": "stream",
          "name": "stdout",
          "text": [
            "17.9 µs ± 4.39 µs per loop (mean ± std. dev. of 7 runs, 100000 loops each)\n"
          ]
        }
      ]
    },
    {
      "cell_type": "code",
      "source": [],
      "metadata": {
        "id": "0SJKcSrxct0I"
      },
      "execution_count": null,
      "outputs": []
    }
  ]
}