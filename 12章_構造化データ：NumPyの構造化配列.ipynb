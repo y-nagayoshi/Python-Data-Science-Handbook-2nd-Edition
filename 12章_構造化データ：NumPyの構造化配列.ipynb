{
  "nbformat": 4,
  "nbformat_minor": 0,
  "metadata": {
    "colab": {
      "provenance": [],
      "authorship_tag": "ABX9TyPLuq8yKPlXZ4SPlEijHZ+/",
      "include_colab_link": true
    },
    "kernelspec": {
      "name": "python3",
      "display_name": "Python 3"
    },
    "language_info": {
      "name": "python"
    }
  },
  "cells": [
    {
      "cell_type": "markdown",
      "metadata": {
        "id": "view-in-github",
        "colab_type": "text"
      },
      "source": [
        "<a href=\"https://colab.research.google.com/github/y-nagayoshi/Python-Data-Science-Handbook-2nd-Edition/blob/main/12%E7%AB%A0_%E6%A7%8B%E9%80%A0%E5%8C%96%E3%83%87%E3%83%BC%E3%82%BF%EF%BC%9ANumPy%E3%81%AE%E6%A7%8B%E9%80%A0%E5%8C%96%E9%85%8D%E5%88%97.ipynb\" target=\"_parent\"><img src=\"https://colab.research.google.com/assets/colab-badge.svg\" alt=\"Open In Colab\"/></a>"
      ]
    },
    {
      "cell_type": "code",
      "execution_count": 1,
      "metadata": {
        "id": "ni5mN_tGiUR3"
      },
      "outputs": [],
      "source": [
        "import numpy as np"
      ]
    },
    {
      "cell_type": "code",
      "source": [
        "name = ['Alice', 'Bob', 'Cathy', 'Doug']\n",
        "age = [25, 45, 37, 19]\n",
        "weight = [55.0, 85.5, 68.0, 61.5]"
      ],
      "metadata": {
        "id": "CGEBgRz5ib7X"
      },
      "execution_count": 2,
      "outputs": []
    },
    {
      "cell_type": "code",
      "source": [
        "data = np.zeros(4, dtype={'names': ('name', 'age', 'weight'), 'formats': ('U10', 'i4', 'f8')})\n",
        "data"
      ],
      "metadata": {
        "colab": {
          "base_uri": "https://localhost:8080/"
        },
        "id": "9MUcPs-Aijoe",
        "outputId": "1b27b4df-cdee-4c22-ff7b-ad68a13cabd8"
      },
      "execution_count": 4,
      "outputs": [
        {
          "output_type": "execute_result",
          "data": {
            "text/plain": [
              "array([('', 0, 0.), ('', 0, 0.), ('', 0, 0.), ('', 0, 0.)],\n",
              "      dtype=[('name', '<U10'), ('age', '<i4'), ('weight', '<f8')])"
            ]
          },
          "metadata": {},
          "execution_count": 4
        }
      ]
    },
    {
      "cell_type": "code",
      "source": [
        "data['name'] = name\n",
        "data['age'] = age\n",
        "data['weight'] = weight\n",
        "data"
      ],
      "metadata": {
        "colab": {
          "base_uri": "https://localhost:8080/"
        },
        "id": "4RUa3G2Ui41o",
        "outputId": "e29654a9-000a-4c1d-f4f2-957b8a095d7b"
      },
      "execution_count": 5,
      "outputs": [
        {
          "output_type": "execute_result",
          "data": {
            "text/plain": [
              "array([('Alice', 25, 55. ), ('Bob', 45, 85.5), ('Cathy', 37, 68. ),\n",
              "       ('Doug', 19, 61.5)],\n",
              "      dtype=[('name', '<U10'), ('age', '<i4'), ('weight', '<f8')])"
            ]
          },
          "metadata": {},
          "execution_count": 5
        }
      ]
    },
    {
      "cell_type": "code",
      "source": [
        "data['name']"
      ],
      "metadata": {
        "colab": {
          "base_uri": "https://localhost:8080/"
        },
        "id": "beAfgp1XjISV",
        "outputId": "012a7cc2-b22d-4963-c2c2-b34620578213"
      },
      "execution_count": 6,
      "outputs": [
        {
          "output_type": "execute_result",
          "data": {
            "text/plain": [
              "array(['Alice', 'Bob', 'Cathy', 'Doug'], dtype='<U10')"
            ]
          },
          "metadata": {},
          "execution_count": 6
        }
      ]
    },
    {
      "cell_type": "code",
      "source": [
        "data[data['age']<30]['name']"
      ],
      "metadata": {
        "colab": {
          "base_uri": "https://localhost:8080/"
        },
        "id": "BfA4ok_cjR5N",
        "outputId": "f5ba1235-8e04-4845-817e-64a7cf02b0ea"
      },
      "execution_count": 7,
      "outputs": [
        {
          "output_type": "execute_result",
          "data": {
            "text/plain": [
              "array(['Alice', 'Doug'], dtype='<U10')"
            ]
          },
          "metadata": {},
          "execution_count": 7
        }
      ]
    },
    {
      "cell_type": "code",
      "source": [
        "np.dtype([('name', 'S10'), ('age', 'i4'), ('weight', 'f8')])"
      ],
      "metadata": {
        "colab": {
          "base_uri": "https://localhost:8080/"
        },
        "id": "CGSp7cVJjb_V",
        "outputId": "89343260-029e-44c5-e146-20288bbac4d8"
      },
      "execution_count": 8,
      "outputs": [
        {
          "output_type": "execute_result",
          "data": {
            "text/plain": [
              "dtype([('name', 'S10'), ('age', '<i4'), ('weight', '<f8')])"
            ]
          },
          "metadata": {},
          "execution_count": 8
        }
      ]
    },
    {
      "cell_type": "code",
      "source": [
        "data_rec = data.view(np.recarray)\n",
        "data_rec.age"
      ],
      "metadata": {
        "colab": {
          "base_uri": "https://localhost:8080/"
        },
        "id": "qo5FodZSj5X6",
        "outputId": "54859072-86c0-4894-ab04-a912181909e6"
      },
      "execution_count": 9,
      "outputs": [
        {
          "output_type": "execute_result",
          "data": {
            "text/plain": [
              "array([25, 45, 37, 19], dtype=int32)"
            ]
          },
          "metadata": {},
          "execution_count": 9
        }
      ]
    },
    {
      "cell_type": "code",
      "source": [
        "%timeit data['age']\n",
        "%timeit data_rec['age']\n",
        "%timeit data_rec.age"
      ],
      "metadata": {
        "colab": {
          "base_uri": "https://localhost:8080/"
        },
        "id": "5pJ1JQBJk_U2",
        "outputId": "edf568fc-f42d-4d12-cadc-aaccf232f22d"
      },
      "execution_count": 10,
      "outputs": [
        {
          "output_type": "stream",
          "name": "stdout",
          "text": [
            "176 ns ± 61.3 ns per loop (mean ± std. dev. of 7 runs, 1000000 loops each)\n",
            "1.84 µs ± 544 ns per loop (mean ± std. dev. of 7 runs, 1000000 loops each)\n",
            "2.98 µs ± 84 ns per loop (mean ± std. dev. of 7 runs, 100000 loops each)\n"
          ]
        }
      ]
    },
    {
      "cell_type": "code",
      "source": [],
      "metadata": {
        "id": "Yi0IaR7dlF6x"
      },
      "execution_count": null,
      "outputs": []
    }
  ]
}