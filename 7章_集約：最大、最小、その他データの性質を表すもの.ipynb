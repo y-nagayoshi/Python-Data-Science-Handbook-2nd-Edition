{
  "nbformat": 4,
  "nbformat_minor": 0,
  "metadata": {
    "colab": {
      "provenance": [],
      "authorship_tag": "ABX9TyPWVw54abReRJHEM1g7DZ3u",
      "include_colab_link": true
    },
    "kernelspec": {
      "name": "python3",
      "display_name": "Python 3"
    },
    "language_info": {
      "name": "python"
    }
  },
  "cells": [
    {
      "cell_type": "markdown",
      "metadata": {
        "id": "view-in-github",
        "colab_type": "text"
      },
      "source": [
        "<a href=\"https://colab.research.google.com/github/y-nagayoshi/Python-Data-Science-Handbook-2nd-Edition/blob/main/7%E7%AB%A0_%E9%9B%86%E7%B4%84%EF%BC%9A%E6%9C%80%E5%A4%A7%E3%80%81%E6%9C%80%E5%B0%8F%E3%80%81%E3%81%9D%E3%81%AE%E4%BB%96%E3%83%87%E3%83%BC%E3%82%BF%E3%81%AE%E6%80%A7%E8%B3%AA%E3%82%92%E8%A1%A8%E3%81%99%E3%82%82%E3%81%AE.ipynb\" target=\"_parent\"><img src=\"https://colab.research.google.com/assets/colab-badge.svg\" alt=\"Open In Colab\"/></a>"
      ]
    },
    {
      "cell_type": "code",
      "execution_count": 1,
      "metadata": {
        "colab": {
          "base_uri": "https://localhost:8080/"
        },
        "id": "NOKcXA0Btvt-",
        "outputId": "b025fc3d-8e9e-4314-9767-9b5afd193c5b"
      },
      "outputs": [
        {
          "output_type": "execute_result",
          "data": {
            "text/plain": [
              "52.92529363528131"
            ]
          },
          "metadata": {},
          "execution_count": 1
        }
      ],
      "source": [
        "import numpy as np\n",
        "rng = np.random.default_rng()\n",
        "\n",
        "L = rng.random(100)\n",
        "sum(L)"
      ]
    },
    {
      "cell_type": "code",
      "source": [
        "%timeit np.sum(L)"
      ],
      "metadata": {
        "colab": {
          "base_uri": "https://localhost:8080/"
        },
        "id": "1OqSVx9WugIn",
        "outputId": "06d92bdd-d23c-4700-c454-f1e65fc89e26"
      },
      "execution_count": 3,
      "outputs": [
        {
          "output_type": "stream",
          "name": "stdout",
          "text": [
            "3.27 µs ± 103 ns per loop (mean ± std. dev. of 7 runs, 100000 loops each)\n"
          ]
        }
      ]
    },
    {
      "cell_type": "code",
      "source": [
        "%timeit sum(L)"
      ],
      "metadata": {
        "colab": {
          "base_uri": "https://localhost:8080/"
        },
        "id": "rjM9oRPzusJ-",
        "outputId": "bf67a57e-1d3c-4aa4-dc45-58ed5c0a0f5d"
      },
      "execution_count": 4,
      "outputs": [
        {
          "output_type": "stream",
          "name": "stdout",
          "text": [
            "10.8 µs ± 408 ns per loop (mean ± std. dev. of 7 runs, 100000 loops each)\n"
          ]
        }
      ]
    },
    {
      "cell_type": "code",
      "source": [
        "!curl \"https://github.com/jakevdp/PythonDataScienceHandbook/blob/master/notebooks/data/president_heights.csv\" -o president_heights.csv"
      ],
      "metadata": {
        "colab": {
          "base_uri": "https://localhost:8080/"
        },
        "id": "TlSVxTQDuysr",
        "outputId": "40d77b24-32f6-4ad9-844e-cadad77730d0"
      },
      "execution_count": 6,
      "outputs": [
        {
          "output_type": "stream",
          "name": "stdout",
          "text": [
            "  % Total    % Received % Xferd  Average Speed   Time    Time     Time  Current\n",
            "                                 Dload  Upload   Total   Spent    Left  Speed\n",
            "100  238k    0  238k    0     0   300k      0 --:--:-- --:--:-- --:--:--  300k\n"
          ]
        }
      ]
    },
    {
      "cell_type": "code",
      "source": [
        "!head -4 president_heights.csv"
      ],
      "metadata": {
        "colab": {
          "base_uri": "https://localhost:8080/"
        },
        "id": "8hcOLitmvc3L",
        "outputId": "f7a7db93-9488-4ffb-f961-214fe7beabe3"
      },
      "execution_count": 10,
      "outputs": [
        {
          "output_type": "stream",
          "name": "stdout",
          "text": [
            "order,name,height(cm)\n",
            "1,George Washington,189\n",
            "2,John Adams,170\n",
            "3,Thomas Jefferson,189\n"
          ]
        }
      ]
    },
    {
      "cell_type": "code",
      "source": [
        "import pandas as pd\n",
        "\n",
        "data = pd.read_csv('president_heights.csv')\n",
        "heights = np.array(data['height(cm)'])\n",
        "heights"
      ],
      "metadata": {
        "colab": {
          "base_uri": "https://localhost:8080/"
        },
        "id": "ThBImIU1vj1I",
        "outputId": "02710661-9d65-4b39-afb7-8d9285d5151c"
      },
      "execution_count": 11,
      "outputs": [
        {
          "output_type": "execute_result",
          "data": {
            "text/plain": [
              "array([189, 170, 189, 163, 183, 171, 185, 168, 173, 183, 173, 173, 175,\n",
              "       178, 183, 193, 178, 173, 174, 183, 183, 168, 170, 178, 182, 180,\n",
              "       183, 178, 182, 188, 175, 179, 183, 193, 182, 183, 177, 185, 188,\n",
              "       188, 182, 185, 191, 182])"
            ]
          },
          "metadata": {},
          "execution_count": 11
        }
      ]
    },
    {
      "cell_type": "code",
      "source": [
        "heights.mean()"
      ],
      "metadata": {
        "colab": {
          "base_uri": "https://localhost:8080/"
        },
        "id": "PNSE4XSTwpoz",
        "outputId": "7c90651a-a280-41e2-9d9a-aee4582d9117"
      },
      "execution_count": 12,
      "outputs": [
        {
          "output_type": "execute_result",
          "data": {
            "text/plain": [
              "180.04545454545453"
            ]
          },
          "metadata": {},
          "execution_count": 12
        }
      ]
    },
    {
      "cell_type": "code",
      "source": [
        "np.percentile(heights, 25)"
      ],
      "metadata": {
        "colab": {
          "base_uri": "https://localhost:8080/"
        },
        "id": "mPDIzqiGwslw",
        "outputId": "01f3e65a-c070-438a-d61b-cd7fb6e83cbe"
      },
      "execution_count": 13,
      "outputs": [
        {
          "output_type": "execute_result",
          "data": {
            "text/plain": [
              "174.75"
            ]
          },
          "metadata": {},
          "execution_count": 13
        }
      ]
    },
    {
      "cell_type": "code",
      "source": [
        "%matplotlib inline\n",
        "import matplotlib.pyplot as plt\n",
        "plt.style.use('seaborn-v0_8-whitegrid')\n",
        "\n",
        "plt.hist(heights)\n",
        "plt.title('Height Distribution of US Presidents')\n",
        "plt.xlabel('height (cm)')\n",
        "plt.ylabel('number');"
      ],
      "metadata": {
        "colab": {
          "base_uri": "https://localhost:8080/",
          "height": 465
        },
        "id": "lWEA6v6Qwwfo",
        "outputId": "7dfdba14-9cf4-4ebc-d4de-de2b00bcbcf0"
      },
      "execution_count": 19,
      "outputs": [
        {
          "output_type": "display_data",
          "data": {
            "text/plain": [
              "<Figure size 640x480 with 1 Axes>"
            ],
            "image/png": "[encoded data removed]"
          },
          "metadata": {}
        }
      ]
    },
    {
      "cell_type": "code",
      "source": [],
      "metadata": {
        "id": "vdO5lkmYw9cO"
      },
      "execution_count": null,
      "outputs": []
    }
  ]
}